{
 "cells": [
  {
   "cell_type": "code",
   "execution_count": 28,
   "metadata": {},
   "outputs": [],
   "source": [
    "import random\n",
    "class common_features:\n",
    "    def __init__(self, name, power, life):\n",
    "        self.name = name\n",
    "        self.power = power \n",
    "        self.life = life"
   ]
  },
  {
   "cell_type": "code",
   "execution_count": 29,
   "metadata": {},
   "outputs": [],
   "source": [
    "class fighter(common_features):\n",
    "    def hit(self, enemypower, enemylife):\n",
    "        power_diff = self.power - enemypower\n",
    "        if power_diff > 0:\n",
    "            x_dmg = random.randint(1, power_diff)\n",
    "        else:\n",
    "            x_dmg = random.randint(1,2)\n",
    "        enemylife = enemylife - x_dmg\n",
    "        return enemylife; "
   ]
  },
  {
   "cell_type": "code",
   "execution_count": 30,
   "metadata": {},
   "outputs": [],
   "source": [
    "class enemy(common_features):\n",
    "    def hit(self, fighterpower, fighterlife):\n",
    "        power_diff = self.power - fighterpower\n",
    "        if power_diff > 0:\n",
    "            x_dmg = random.randint(1, power_diff)\n",
    "        else:\n",
    "            x_dmg = random.randint(1,2)\n",
    "        fighterlife = fighterlife - x_dmg\n",
    "        return fighterlife;    "
   ]
  },
  {
   "cell_type": "code",
   "execution_count": 31,
   "metadata": {},
   "outputs": [],
   "source": [
    "fighter1 = fighter('Alpha Warrior', 18, 25)\n",
    "enemy1 = enemy('Darkness', 18, 25)"
   ]
  },
  {
   "cell_type": "code",
   "execution_count": 32,
   "metadata": {},
   "outputs": [
    {
     "name": "stdout",
     "output_type": "stream",
     "text": [
      "Alpha Warrior attacked Darkness, the remianing life of Darkness is 23\n",
      "Darkness attacked Alpha Warrior, the remianing life of Alpha Warrior is 24\n",
      "Alpha Warrior attacked Darkness, the remianing life of Darkness is 22\n",
      "Darkness attacked Alpha Warrior, the remianing life of Alpha Warrior is 23\n",
      "Alpha Warrior attacked Darkness, the remianing life of Darkness is 20\n",
      "Darkness attacked Alpha Warrior, the remianing life of Alpha Warrior is 21\n",
      "Alpha Warrior attacked Darkness, the remianing life of Darkness is 18\n",
      "Darkness attacked Alpha Warrior, the remianing life of Alpha Warrior is 20\n",
      "Alpha Warrior attacked Darkness, the remianing life of Darkness is 17\n",
      "Darkness attacked Alpha Warrior, the remianing life of Alpha Warrior is 18\n",
      "Alpha Warrior attacked Darkness, the remianing life of Darkness is 15\n",
      "Darkness attacked Alpha Warrior, the remianing life of Alpha Warrior is 16\n",
      "Alpha Warrior attacked Darkness, the remianing life of Darkness is 14\n",
      "Darkness attacked Alpha Warrior, the remianing life of Alpha Warrior is 14\n",
      "Alpha Warrior attacked Darkness, the remianing life of Darkness is 13\n",
      "Darkness attacked Alpha Warrior, the remianing life of Alpha Warrior is 12\n",
      "Alpha Warrior attacked Darkness, the remianing life of Darkness is 11\n",
      "Darkness attacked Alpha Warrior, the remianing life of Alpha Warrior is 11\n",
      "Alpha Warrior attacked Darkness, the remianing life of Darkness is 9\n",
      "Darkness attacked Alpha Warrior, the remianing life of Alpha Warrior is 9\n",
      "Alpha Warrior attacked Darkness, the remianing life of Darkness is 7\n",
      "Darkness attacked Alpha Warrior, the remianing life of Alpha Warrior is 8\n",
      "Alpha Warrior attacked Darkness, the remianing life of Darkness is 6\n",
      "Darkness attacked Alpha Warrior, the remianing life of Alpha Warrior is 7\n",
      "Alpha Warrior attacked Darkness, the remianing life of Darkness is 4\n",
      "Darkness attacked Alpha Warrior, the remianing life of Alpha Warrior is 6\n",
      "Alpha Warrior attacked Darkness, the remianing life of Darkness is 2\n",
      "Darkness attacked Alpha Warrior, the remianing life of Alpha Warrior is 4\n",
      "Game over \n",
      "Darkness is dead.\n"
     ]
    }
   ],
   "source": [
    "for i in range(100):\n",
    "    fighterattack = fighter1.hit(enemy1.power, enemy1.life)\n",
    "    enemy1.life = fighterattack\n",
    "    if enemy1.life <= 0:\n",
    "        print('Game over', '\\n' + enemy1.name, 'is dead.')\n",
    "        break\n",
    "    enemyattack = enemy1.hit(fighter1.power, fighter1.life)\n",
    "    fighter1.life = enemyattack\n",
    "    if fighter1.life <= 0:\n",
    "        print('Game over','\\n' + fighter1.name, 'is dead.')\n",
    "        break\n",
    "    print(f'{fighter1.name} attacked {enemy1.name}, the remianing life of {enemy1.name} is {enemy1.life}' )\n",
    "    print(f'{enemy1.name} attacked {fighter1.name}, the remianing life of {fighter1.name} is {fighter1.life}' )"
   ]
  },
  {
   "cell_type": "code",
   "execution_count": null,
   "metadata": {},
   "outputs": [],
   "source": []
  }
 ],
 "metadata": {
  "kernelspec": {
   "display_name": "Python 3",
   "language": "python",
   "name": "python3"
  },
  "language_info": {
   "codemirror_mode": {
    "name": "ipython",
    "version": 3
   },
   "file_extension": ".py",
   "mimetype": "text/x-python",
   "name": "python",
   "nbconvert_exporter": "python",
   "pygments_lexer": "ipython3",
   "version": "3.6.8"
  }
 },
 "nbformat": 4,
 "nbformat_minor": 2
}
